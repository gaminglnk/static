{
  "nbformat": 4,
  "nbformat_minor": 0,
  "metadata": {
    "colab": {
      "name": "Anime-Downloader.ipynb",
      "provenance": [],
      "collapsed_sections": [],
      "authorship_tag": "ABX9TyNvwhSZspBPouux42p7k1pu",
      "include_colab_link": true
    },
    "kernelspec": {
      "name": "python3",
      "display_name": "Python 3"
    },
    "language_info": {
      "name": "python"
    }
  },
  "cells": [
    {
      "cell_type": "markdown",
      "metadata": {
        "id": "view-in-github",
        "colab_type": "text"
      },
      "source": [
        "<a href=\"https://colab.research.google.com/github/gaminglnk/static/blob/pages/Anime_Downloader.ipynb\" target=\"_parent\"><img src=\"https://colab.research.google.com/assets/colab-badge.svg\" alt=\"Open In Colab\"/></a>"
      ]
    },
    {
      "cell_type": "code",
      "source": [
        "#@title **Stay Updated**\n",
        "#@markdown Update the machine. To use latest version.\n",
        "\n",
        "! sudo apt update -y\n",
        "! pip3 install anikimiapi"
      ],
      "metadata": {
        "id": "mM50uSuNekeX",
        "cellView": "form"
      },
      "execution_count": null,
      "outputs": []
    },
    {
      "cell_type": "code",
      "source": [
        "#@markdown Search for your favourite anime here and copy its ID.\n",
        "\n",
        "searchFor = \"dubu xiaoyao\" #@param {type:\"string\"}\n",
        "\n",
        "from anikimiapi import AniKimi\n",
        "\n",
        "anime = AniKimi(\n",
        "    gogoanime_token=\"63ad3icittr218481es5u10m90\",\n",
        "    auth_token=\"QBbmcejkRyms%2FKy%2BeAb0pPeuUGr0XysGJIyme4ojHM1UkdUKml1RA2UCkGWmAUS0YrxT5BqrS0EpZf39gBfFYg%3D%3D\",\n",
        "    host=\"https://gogoanime.fi/\",\n",
        ")\n",
        "\n",
        "# Search Anime\n",
        "results = anime.search_anime(query=searchFor)\n",
        "\n",
        "print(\"\\nHere are your search results, \\n\")\n",
        "\n",
        "for i in results:\n",
        "    print(\"Name : \",i.title) # (or)\n",
        "    print(\"ID   : \",i.animeid, \"\\n\")"
      ],
      "metadata": {
        "cellView": "form",
        "id": "3gIKYUi9KeYI",
        "colab": {
          "base_uri": "https://localhost:8080/"
        },
        "outputId": "ae0c5eda-c049-4ddc-c0dc-ad814fe6d83c"
      },
      "execution_count": 33,
      "outputs": [
        {
          "output_type": "stream",
          "name": "stdout",
          "text": [
            "\n",
            "Here are your search results, \n",
            "\n",
            "Name :  Dubu Xiaoyao\n",
            "ID   :  dubu-xiaoyao \n",
            "\n"
          ]
        }
      ]
    },
    {
      "cell_type": "code",
      "source": [
        "#@markdown Get details of the anime.\n",
        "\n",
        "animeID = \"dubu-xiaoyao\" #@param {type:\"string\"}\n",
        "\n",
        "from anikimiapi import AniKimi\n",
        "\n",
        "anime = AniKimi(\n",
        "    gogoanime_token=\"63ad3icittr218481es5u10m90\",\n",
        "    auth_token=\"QBbmcejkRyms%2FKy%2BeAb0pPeuUGr0XysGJIyme4ojHM1UkdUKml1RA2UCkGWmAUS0YrxT5BqrS0EpZf39gBfFYg%3D%3D\",\n",
        "    host=\"https://gogoanime.fi/\",\n",
        ")\n",
        "\n",
        "print(\"\\nAnime Details :-\\n\")\n",
        "# Get anime Details\n",
        "details = anime.get_details(animeid=animeID)\n",
        "print(\"Title    : \",details.title)\n",
        "print(\"Year     : \",details.year)\n",
        "print(\"Type     : \",details.season)\n",
        "print(\"Episodes : \",details.episodes)\n",
        "print(\"Status   : \",details.status)\n",
        "print(\"Image    : \",details.image_url)\n",
        "print(\"Genres   : \",details.genres)"
      ],
      "metadata": {
        "colab": {
          "base_uri": "https://localhost:8080/"
        },
        "cellView": "form",
        "id": "La14Ur66Qr6q",
        "outputId": "9c147966-c514-4605-ff22-0ff2ce73812e"
      },
      "execution_count": 34,
      "outputs": [
        {
          "output_type": "stream",
          "name": "stdout",
          "text": [
            "\n",
            "Anime Details :-\n",
            "\n",
            "Title    :  Dubu Xiaoyao\n",
            "Year     :  2020\n",
            "Type     :  ONA\n",
            "Episodes :  190\n",
            "Status   :  Ongoing\n",
            "Image    :  https://gogocdn.net/cover/dubu-xiaoyao.png\n",
            "Genres   :  ['Action', 'Martial Arts']\n"
          ]
        }
      ]
    },
    {
      "cell_type": "code",
      "source": [
        "#@markdown Get anime streaming links.\n",
        "\n",
        "animeID = \"one-punch-man-dub\" #@param {type:\"string\"}\n",
        "episode =  12#@param {type:\"integer\"}\n",
        "\n",
        "from anikimiapi import AniKimi\n",
        "\n",
        "anime = AniKimi(\n",
        "    gogoanime_token=\"63ad3icittr218481es5u10m90\",\n",
        "    auth_token=\"QBbmcejkRyms%2FKy%2BeAb0pPeuUGr0XysGJIyme4ojHM1UkdUKml1RA2UCkGWmAUS0YrxT5BqrS0EpZf39gBfFYg%3D%3D\",\n",
        "    host=\"https://gogoanime.fi/\",\n",
        ")\n",
        "\n",
        "print(\"\\nAnime Download Links :-\\n\")\n",
        "\n",
        "# Getting Anime Links advanced method\n",
        "anime_link = anime.get_episode_link_basic(animeid=animeID, episode_num=episode)\n",
        "\n",
        "\n",
        "print(\"StreamSB    : \",anime_link.link_streamsb)\n",
        "print(\"StreamTape  : \",anime_link.link_streamtape)\n",
        "print(\"Xstreamcdn  : \",anime_link.link_xstreamcdn)\n",
        "print(\"DoodStream  : \",anime_link.link_doodstream)\n",
        "print(\"mp4upload   : \",anime_link.link_mp4upload)\n",
        "\n",
        "print(\"\\n\\nMultiple Qualities :-\\n\")\n",
        "print(\"360p : \",anime_link.link_360p)\n",
        "print(\"480p : \",anime_link.link_480p)\n",
        "print(\"720p : \",anime_link.link_720p)\n"
      ],
      "metadata": {
        "colab": {
          "base_uri": "https://localhost:8080/"
        },
        "cellView": "form",
        "id": "iSNzBANwT5Yb",
        "outputId": "bd6356a1-74e0-49c1-fd51-4d93d7ff522b"
      },
      "execution_count": 45,
      "outputs": [
        {
          "output_type": "stream",
          "name": "stdout",
          "text": [
            "\n",
            "Anime Download Links :-\n",
            "\n",
            "StreamSB    :  None\n",
            "StreamTape  :  None\n",
            "Xstreamcdn  :  None\n",
            "DoodStream  :  None\n",
            "mp4upload   :  None\n",
            "\n",
            "\n",
            "Multiple Qualities :-\n",
            "\n",
            "360p :  None\n",
            "480p :  None\n",
            "720p :  None\n"
          ]
        }
      ]
    }
  ]
}